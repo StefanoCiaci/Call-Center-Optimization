{
 "cells": [
  {
   "cell_type": "markdown",
   "id": "9b313a73-738c-442c-9b80-716d8a2ba7d6",
   "metadata": {},
   "source": [
    "## Ecosystem Classifier\n",
    "\n",
    "The EcosystemClassifier model is a voting classifier composed of Random Forests. It encompasses the following methods:\n",
    "\n",
    "1. Predict method\n",
    "2. Predict probability method\n",
    "3. Feature importance evaluation"
   ]
  },
  {
   "cell_type": "code",
   "execution_count": 1,
   "id": "6dd48765-3b3a-4d8d-a206-019454773377",
   "metadata": {},
   "outputs": [],
   "source": [
    "import numpy as np\n",
    "import pandas as pd"
   ]
  },
  {
   "cell_type": "code",
   "execution_count": 2,
   "id": "d61827ad-a948-4235-a440-43544927dcf5",
   "metadata": {},
   "outputs": [],
   "source": [
    "class EcosystemClassifier(object):\n",
    "    __slots__ = (\"weights\",\n",
    "                 \"models\",\n",
    "                 \"reports\")\n",
    "\n",
    "    def __init__(self,\n",
    "                 weights: pd.Series,\n",
    "                 models: pd.Series,\n",
    "                 reports: pd.Series):\n",
    "        \"\"\"\n",
    "        Constructor method for the class `EcosystemClassifier`.\n",
    "        :param weights: Weights to each Random Forest for the Voting Classifier.\n",
    "        :param models: List of Random Forests.\n",
    "        :reports: List of OptimizeResult objects.\n",
    "        \"\"\"\n",
    "        self.weights = weights\n",
    "        self.models = models\n",
    "        self.reports = reports\n",
    "\n",
    "    def predict_proba(self, \n",
    "                      x: np.array\n",
    "                      ) -> np.array:\n",
    "        \"\"\"\n",
    "        Predict probability method for x. The predicted class of an input sample is a weighted vote by the forests in the ecosystem.\n",
    "        :input x: The input samples.\n",
    "        :return: The predicted classes probabilities.\n",
    "        \"\"\"\n",
    "        predict = self.models.apply(func=lambda model: np.array([proba[1] for proba in model.predict_proba(x)]))\n",
    "        predict = (predict * self.weights / self.weights.sum()).sum()\n",
    "        return predict\n",
    "        \n",
    "    def predict(self, \n",
    "                x: np.array\n",
    "                ) -> np.array:\n",
    "        \"\"\"\n",
    "        Predict method for x. The predicted class of an input sample is a weighted vote by the forests in the ecosystem.\n",
    "        :input x: The input samples.\n",
    "        :return: The predicted classes.\n",
    "        \"\"\"\n",
    "        return self.predict_proba(x) > .5\n",
    "\n",
    "    def feature_importance(self,\n",
    "                           feature_names: list[str]\n",
    "                           ) -> pd.DataFrame:\n",
    "        \"\"\"\n",
    "        Feature importance method. The importances are a weighted vote by the forests in the ecosystem.\n",
    "        :input feature_names: List containing the names of the features.\n",
    "        :return: Feature importance DataFrame.\n",
    "        \"\"\"\n",
    "        feature_importance = self.models.apply(func=lambda x: x.feature_importances_)\n",
    "        df = pd.DataFrame(data=(feature_importance * self.weights).sum() / self.weights.sum(),\n",
    "                          index=feature_names, \n",
    "                          columns=[\"relevance\"])\n",
    "        return df.sort_values(by=\"relevance\", ascending=False)"
   ]
  }
 ],
 "metadata": {
  "kernelspec": {
   "display_name": "Python 3 (ipykernel)",
   "language": "python",
   "name": "python3"
  },
  "language_info": {
   "codemirror_mode": {
    "name": "ipython",
    "version": 3
   },
   "file_extension": ".py",
   "mimetype": "text/x-python",
   "name": "python",
   "nbconvert_exporter": "python",
   "pygments_lexer": "ipython3",
   "version": "3.10.12"
  }
 },
 "nbformat": 4,
 "nbformat_minor": 5
}
