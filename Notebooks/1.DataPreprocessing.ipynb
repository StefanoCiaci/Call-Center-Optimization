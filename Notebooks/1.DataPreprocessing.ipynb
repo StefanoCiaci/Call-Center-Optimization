{
 "cells": [
  {
   "cell_type": "markdown",
   "id": "0d53143b-daa4-4c8f-82ee-dcfad55c5b62",
   "metadata": {},
   "source": [
    "# Data Preprocessing\n",
    "This notebook encapsulates the data preprocessing pipeline applied to data stored in CSV format. Key preprocessing steps integrated into this pipeline include the encoding of categorical variables, imputation of missing values, and optimization of memory allocation."
   ]
  },
  {
   "cell_type": "code",
   "execution_count": 1,
   "id": "87cf3349-811f-4c16-8cb2-a140183df220",
   "metadata": {},
   "outputs": [],
   "source": [
    "from time import time"
   ]
  },
  {
   "cell_type": "code",
   "execution_count": 2,
   "id": "1d81e951-d611-49bd-9d6e-cf8894aef92b",
   "metadata": {},
   "outputs": [],
   "source": [
    "import numpy as np\n",
    "import pandas as pd"
   ]
  },
  {
   "cell_type": "code",
   "execution_count": 3,
   "id": "b398223e-9d40-4341-a7e9-900d8d910395",
   "metadata": {},
   "outputs": [],
   "source": [
    "from sklearn.neighbors import KNeighborsClassifier"
   ]
  },
  {
   "cell_type": "code",
   "execution_count": 4,
   "id": "78a7275b-fc23-4e62-94a1-168a07105115",
   "metadata": {},
   "outputs": [],
   "source": [
    "timer_start = time()"
   ]
  },
  {
   "cell_type": "markdown",
   "id": "e767f2da-c1e9-4593-b661-c6b2037d6dc5",
   "metadata": {},
   "source": [
    "## Importing the Dataset\n",
    "We initiate the preprocessing pipeline by importing the dataset. The dataset comprises a rich array of attributes associated with individual profiles, encapsulating demographic descriptors and financial indicators. To gain a deeper understanding of the underlying dataset, we proceed to visualize the DataFrame."
   ]
  },
  {
   "cell_type": "code",
   "execution_count": 5,
   "id": "f0548598-f590-4aee-b4e8-16701eda34ce",
   "metadata": {},
   "outputs": [],
   "source": [
    "df = pd.read_csv(filepath_or_buffer=\"data.csv\",\n",
    "                 na_values=\"unknown\",\n",
    "                 encoding=\"utf-8\")\n",
    "\n",
    "df.index.names = ['id']"
   ]
  },
  {
   "cell_type": "code",
   "execution_count": 6,
   "id": "b966471b-e360-4cfe-831c-410d2d117714",
   "metadata": {},
   "outputs": [
    {
     "data": {
      "text/html": [
       "<div>\n",
       "<style scoped>\n",
       "    .dataframe tbody tr th:only-of-type {\n",
       "        vertical-align: middle;\n",
       "    }\n",
       "\n",
       "    .dataframe tbody tr th {\n",
       "        vertical-align: top;\n",
       "    }\n",
       "\n",
       "    .dataframe thead th {\n",
       "        text-align: right;\n",
       "    }\n",
       "</style>\n",
       "<table border=\"1\" class=\"dataframe\">\n",
       "  <thead>\n",
       "    <tr style=\"text-align: right;\">\n",
       "      <th></th>\n",
       "      <th>age</th>\n",
       "      <th>job</th>\n",
       "      <th>marital</th>\n",
       "      <th>education</th>\n",
       "      <th>default</th>\n",
       "      <th>balance</th>\n",
       "      <th>housing</th>\n",
       "      <th>loan</th>\n",
       "      <th>contact</th>\n",
       "      <th>day</th>\n",
       "      <th>month</th>\n",
       "      <th>duration</th>\n",
       "      <th>campaign</th>\n",
       "      <th>y</th>\n",
       "    </tr>\n",
       "    <tr>\n",
       "      <th>id</th>\n",
       "      <th></th>\n",
       "      <th></th>\n",
       "      <th></th>\n",
       "      <th></th>\n",
       "      <th></th>\n",
       "      <th></th>\n",
       "      <th></th>\n",
       "      <th></th>\n",
       "      <th></th>\n",
       "      <th></th>\n",
       "      <th></th>\n",
       "      <th></th>\n",
       "      <th></th>\n",
       "      <th></th>\n",
       "    </tr>\n",
       "  </thead>\n",
       "  <tbody>\n",
       "    <tr>\n",
       "      <th>0</th>\n",
       "      <td>58</td>\n",
       "      <td>management</td>\n",
       "      <td>married</td>\n",
       "      <td>tertiary</td>\n",
       "      <td>no</td>\n",
       "      <td>2143</td>\n",
       "      <td>yes</td>\n",
       "      <td>no</td>\n",
       "      <td>NaN</td>\n",
       "      <td>5</td>\n",
       "      <td>may</td>\n",
       "      <td>261</td>\n",
       "      <td>1</td>\n",
       "      <td>no</td>\n",
       "    </tr>\n",
       "    <tr>\n",
       "      <th>1</th>\n",
       "      <td>44</td>\n",
       "      <td>technician</td>\n",
       "      <td>single</td>\n",
       "      <td>secondary</td>\n",
       "      <td>no</td>\n",
       "      <td>29</td>\n",
       "      <td>yes</td>\n",
       "      <td>no</td>\n",
       "      <td>NaN</td>\n",
       "      <td>5</td>\n",
       "      <td>may</td>\n",
       "      <td>151</td>\n",
       "      <td>1</td>\n",
       "      <td>no</td>\n",
       "    </tr>\n",
       "    <tr>\n",
       "      <th>2</th>\n",
       "      <td>33</td>\n",
       "      <td>entrepreneur</td>\n",
       "      <td>married</td>\n",
       "      <td>secondary</td>\n",
       "      <td>no</td>\n",
       "      <td>2</td>\n",
       "      <td>yes</td>\n",
       "      <td>yes</td>\n",
       "      <td>NaN</td>\n",
       "      <td>5</td>\n",
       "      <td>may</td>\n",
       "      <td>76</td>\n",
       "      <td>1</td>\n",
       "      <td>no</td>\n",
       "    </tr>\n",
       "    <tr>\n",
       "      <th>3</th>\n",
       "      <td>47</td>\n",
       "      <td>blue-collar</td>\n",
       "      <td>married</td>\n",
       "      <td>NaN</td>\n",
       "      <td>no</td>\n",
       "      <td>1506</td>\n",
       "      <td>yes</td>\n",
       "      <td>no</td>\n",
       "      <td>NaN</td>\n",
       "      <td>5</td>\n",
       "      <td>may</td>\n",
       "      <td>92</td>\n",
       "      <td>1</td>\n",
       "      <td>no</td>\n",
       "    </tr>\n",
       "    <tr>\n",
       "      <th>4</th>\n",
       "      <td>33</td>\n",
       "      <td>NaN</td>\n",
       "      <td>single</td>\n",
       "      <td>NaN</td>\n",
       "      <td>no</td>\n",
       "      <td>1</td>\n",
       "      <td>no</td>\n",
       "      <td>no</td>\n",
       "      <td>NaN</td>\n",
       "      <td>5</td>\n",
       "      <td>may</td>\n",
       "      <td>198</td>\n",
       "      <td>1</td>\n",
       "      <td>no</td>\n",
       "    </tr>\n",
       "  </tbody>\n",
       "</table>\n",
       "</div>"
      ],
      "text/plain": [
       "    age           job  marital  education default  balance housing loan  \\\n",
       "id                                                                        \n",
       "0    58    management  married   tertiary      no     2143     yes   no   \n",
       "1    44    technician   single  secondary      no       29     yes   no   \n",
       "2    33  entrepreneur  married  secondary      no        2     yes  yes   \n",
       "3    47   blue-collar  married        NaN      no     1506     yes   no   \n",
       "4    33           NaN   single        NaN      no        1      no   no   \n",
       "\n",
       "   contact  day month  duration  campaign   y  \n",
       "id                                             \n",
       "0      NaN    5   may       261         1  no  \n",
       "1      NaN    5   may       151         1  no  \n",
       "2      NaN    5   may        76         1  no  \n",
       "3      NaN    5   may        92         1  no  \n",
       "4      NaN    5   may       198         1  no  "
      ]
     },
     "execution_count": 6,
     "metadata": {},
     "output_type": "execute_result"
    }
   ],
   "source": [
    "df.head()"
   ]
  },
  {
   "cell_type": "code",
   "execution_count": 7,
   "id": "937df476-171c-4817-a5ca-ff06538b2372",
   "metadata": {},
   "outputs": [
    {
     "name": "stdout",
     "output_type": "stream",
     "text": [
      "The DataFrame has been allocated a memory space of  4.48MB\n"
     ]
    }
   ],
   "source": [
    "print(f\"The DataFrame has been allocated a memory space of {df.memory_usage().sum() / 10**6: .2f}MB\")"
   ]
  },
  {
   "cell_type": "markdown",
   "id": "0d40dc8b-c82a-480c-aa4f-1a29fb5adf2b",
   "metadata": {},
   "source": [
    "To prevent **data leakage**, we remove the columns *contact*, *day*, *month*, *duration*, and *campaign*. These columns contain information about the last marketing communication, which is typically unknown until the final communication actually occurs."
   ]
  },
  {
   "cell_type": "code",
   "execution_count": 8,
   "id": "95117b84-0f28-4946-857b-f082b32fd921",
   "metadata": {},
   "outputs": [],
   "source": [
    "df.drop(labels=[\"contact\",\n",
    "                \"day\",\n",
    "                \"month\",\n",
    "                \"duration\",\n",
    "                \"campaign\"],\n",
    "        axis=1,\n",
    "        inplace=True)"
   ]
  },
  {
   "cell_type": "markdown",
   "id": "06d35eb5-3b39-470b-841d-7f0b58207777",
   "metadata": {},
   "source": [
    "## Encoding of Categorical Variables and Imputation of Missing Values\n",
    "We perform the one-hot encoding for the columns that do not contain missing values."
   ]
  },
  {
   "cell_type": "code",
   "execution_count": 9,
   "id": "b2b581e4-bbba-4616-88ec-e9b887f0b9e6",
   "metadata": {},
   "outputs": [],
   "source": [
    "df = pd.get_dummies(data=df,\n",
    "                    columns=[\"marital\",\n",
    "                             \"default\",\n",
    "                             \"housing\",\n",
    "                             \"loan\",\n",
    "                             \"y\"],\n",
    "                    drop_first=True)\n",
    "\n",
    "df.rename(columns={\"marital_married\": \"married\",\n",
    "                   \"marital_single\": \"single\", \n",
    "                   \"default_yes\": \"default\",\n",
    "                   \"housing_yes\": \"housing\", \n",
    "                   \"loan_yes\": \"loan\", \n",
    "                   \"y_yes\": \"y\"},\n",
    "          inplace=True)"
   ]
  },
  {
   "cell_type": "markdown",
   "id": "8f0324ac-603e-47cb-85b3-d30a2f730200",
   "metadata": {},
   "source": [
    "The function **impute_nan**, serves to impute missing values within a DataFrame. It operates by identifying the specified column containing missing values, then utilizes a **K-Nearest Neighbors classifier** to predict and fill in these missing values. The function returns the DataFrame with the missing values imputed."
   ]
  },
  {
   "cell_type": "code",
   "execution_count": 10,
   "id": "4222d7fa-7113-4ba9-a9e0-f09762eb4f04",
   "metadata": {},
   "outputs": [],
   "source": [
    "def impute_na(df: pd.DataFrame,\n",
    "              column: str\n",
    "              ) -> pd.DataFrame:\n",
    "    \"\"\"\n",
    "    Imputes missing values in a DataFrame using a K-Nearest Neighbors Classifier.\n",
    "    :param df: DataFrame to be analyzed.\n",
    "    :param column: Name of the column containing missing values.\n",
    "    :return: Imputed DataFrame.\n",
    "    \"\"\"\n",
    "    df_na = df[df[column].isna()].copy()\n",
    "    df_na.drop(labels=column,\n",
    "               axis=1, \n",
    "               inplace=True)\n",
    "    \n",
    "    df.dropna(axis=0,\n",
    "              inplace=True)\n",
    "    \n",
    "    x = df.drop(labels=column, \n",
    "                axis=1)\n",
    "    y = df[column]\n",
    "    \n",
    "    imputer = KNeighborsClassifier()\n",
    "    imputer.fit(x, y)\n",
    "    \n",
    "    df_na[column] = imputer.predict(df_na)\n",
    "    \n",
    "    return pd.concat(objs=[df, df_na],\n",
    "                     axis=0)"
   ]
  },
  {
   "cell_type": "markdown",
   "id": "b66f59cd-3c17-4f2b-809c-99b96a67563a",
   "metadata": {},
   "source": [
    "We utilize the **impute_na** function to replace missing values within the *job* column, and perform its one-hot encoding."
   ]
  },
  {
   "cell_type": "code",
   "execution_count": 11,
   "id": "ee3ad5f7-14e3-4bfc-92ab-9e4ead5d4a62",
   "metadata": {},
   "outputs": [],
   "source": [
    "job_impute = impute_na(df=df.drop(labels=[\"education\",\n",
    "                                          \"y\"], \n",
    "                                  axis=1),\n",
    "                       column=\"job\")\n",
    "\n",
    "df = pd.concat(objs=[job_impute, \n",
    "                     df.education, \n",
    "                     df.y], \n",
    "               axis=1)"
   ]
  },
  {
   "cell_type": "code",
   "execution_count": 12,
   "id": "b51a820e-5293-46e8-adcd-7754673fbeb0",
   "metadata": {},
   "outputs": [],
   "source": [
    "df = pd.get_dummies(data=df,\n",
    "                    columns=[\"job\"],\n",
    "                    drop_first=True)\n",
    "\n",
    "df.rename(columns={column: column.split(\"_\")[1] \n",
    "                   for column in df.columns \n",
    "                   if \"job_\" in column},\n",
    "          inplace=True)"
   ]
  },
  {
   "cell_type": "markdown",
   "id": "4cba161d-7f4c-4d28-b3ea-e25f032558d5",
   "metadata": {},
   "source": [
    "We ordinal encode the column *education*, and we utilize the **impute_na** function to replace its missing values."
   ]
  },
  {
   "cell_type": "code",
   "execution_count": 13,
   "id": "412cc847-878f-4493-b990-812cb08c124a",
   "metadata": {},
   "outputs": [],
   "source": [
    "df.education = df.education.apply(func=lambda x: 3 if x == \"tertiary\" else\n",
    "                                                 2 if x == \"secondary\" else\n",
    "                                                 1 if x == \"primary\" else\n",
    "                                                 np.nan)"
   ]
  },
  {
   "cell_type": "code",
   "execution_count": 14,
   "id": "c343d095-3563-42bf-a4c3-7fb7bdb96fde",
   "metadata": {},
   "outputs": [],
   "source": [
    "education_impute = impute_na(df=df.drop(labels=\"y\",\n",
    "                                        axis=1),\n",
    "                             column=\"education\")\n",
    "\n",
    "df = pd.concat(objs=[education_impute,\n",
    "                     df.y], \n",
    "               axis=1)"
   ]
  },
  {
   "cell_type": "markdown",
   "id": "32a8e1ad-3593-4195-9d32-468d232c8473",
   "metadata": {},
   "source": [
    "## Optimizing Memory Allocation\n",
    "We have already transformed string data types into boolean or numerical data types using one-hot and ordinal encoding. Now, we proceed to optimize the data types of all numerical values within the DataFrame for efficiency."
   ]
  },
  {
   "cell_type": "code",
   "execution_count": 15,
   "id": "de291833-9938-45d7-9c04-d1c5896d5982",
   "metadata": {},
   "outputs": [],
   "source": [
    "df = df.astype(dtype={\"age\": np.int8,\n",
    "                      \"education\": np.int8,\n",
    "                      \"balance\": np.int16})"
   ]
  },
  {
   "cell_type": "code",
   "execution_count": 16,
   "id": "3675cd9a-ce3f-4fd5-9f03-e28c2c8da828",
   "metadata": {},
   "outputs": [],
   "source": [
    "df = df[df.dtypes.sort_values(ascending=False).index]"
   ]
  },
  {
   "cell_type": "markdown",
   "id": "4e6436e0-cf4b-4593-af22-3f55999d615e",
   "metadata": {},
   "source": [
    "We export and store the DataFrame in binary format. By reloading it, we can construct a new DataFrame, further enhancing its memory efficiency."
   ]
  },
  {
   "cell_type": "code",
   "execution_count": 17,
   "id": "763b9a5f-f690-462e-8ed7-b96b1f391fa8",
   "metadata": {},
   "outputs": [],
   "source": [
    "df.to_pickle(path=\"dataframe.pkl\")"
   ]
  },
  {
   "cell_type": "code",
   "execution_count": 18,
   "id": "f7782cae-8d7e-449d-9c0e-bc754c2fb992",
   "metadata": {},
   "outputs": [
    {
     "name": "stdout",
     "output_type": "stream",
     "text": [
      "Allocated memory for the DataFrame:  1.12MB\n"
     ]
    }
   ],
   "source": [
    "print(f\"Allocated memory for the DataFrame: {pd.read_pickle(filepath_or_buffer='dataframe.pkl').memory_usage().sum() / 10**6: .2f}MB\")"
   ]
  },
  {
   "cell_type": "markdown",
   "id": "4172ab4e-6872-47d2-a68c-3b079e6c8bcb",
   "metadata": {},
   "source": [
    "In conclusion, we visualize the outcome of the preprocessing pipeline."
   ]
  },
  {
   "cell_type": "code",
   "execution_count": 19,
   "id": "182b9635-8671-4d1e-8f20-f5801492474a",
   "metadata": {},
   "outputs": [
    {
     "data": {
      "text/html": [
       "<div>\n",
       "<style scoped>\n",
       "    .dataframe tbody tr th:only-of-type {\n",
       "        vertical-align: middle;\n",
       "    }\n",
       "\n",
       "    .dataframe tbody tr th {\n",
       "        vertical-align: top;\n",
       "    }\n",
       "\n",
       "    .dataframe thead th {\n",
       "        text-align: right;\n",
       "    }\n",
       "</style>\n",
       "<table border=\"1\" class=\"dataframe\">\n",
       "  <thead>\n",
       "    <tr style=\"text-align: right;\">\n",
       "      <th></th>\n",
       "      <th>balance</th>\n",
       "      <th>age</th>\n",
       "      <th>education</th>\n",
       "      <th>management</th>\n",
       "      <th>unemployed</th>\n",
       "      <th>technician</th>\n",
       "      <th>student</th>\n",
       "      <th>services</th>\n",
       "      <th>self-employed</th>\n",
       "      <th>retired</th>\n",
       "      <th>entrepreneur</th>\n",
       "      <th>housemaid</th>\n",
       "      <th>blue-collar</th>\n",
       "      <th>loan</th>\n",
       "      <th>housing</th>\n",
       "      <th>default</th>\n",
       "      <th>single</th>\n",
       "      <th>married</th>\n",
       "      <th>y</th>\n",
       "    </tr>\n",
       "    <tr>\n",
       "      <th>id</th>\n",
       "      <th></th>\n",
       "      <th></th>\n",
       "      <th></th>\n",
       "      <th></th>\n",
       "      <th></th>\n",
       "      <th></th>\n",
       "      <th></th>\n",
       "      <th></th>\n",
       "      <th></th>\n",
       "      <th></th>\n",
       "      <th></th>\n",
       "      <th></th>\n",
       "      <th></th>\n",
       "      <th></th>\n",
       "      <th></th>\n",
       "      <th></th>\n",
       "      <th></th>\n",
       "      <th></th>\n",
       "      <th></th>\n",
       "    </tr>\n",
       "  </thead>\n",
       "  <tbody>\n",
       "    <tr>\n",
       "      <th>0</th>\n",
       "      <td>2143</td>\n",
       "      <td>58</td>\n",
       "      <td>3</td>\n",
       "      <td>True</td>\n",
       "      <td>False</td>\n",
       "      <td>False</td>\n",
       "      <td>False</td>\n",
       "      <td>False</td>\n",
       "      <td>False</td>\n",
       "      <td>False</td>\n",
       "      <td>False</td>\n",
       "      <td>False</td>\n",
       "      <td>False</td>\n",
       "      <td>False</td>\n",
       "      <td>True</td>\n",
       "      <td>False</td>\n",
       "      <td>False</td>\n",
       "      <td>True</td>\n",
       "      <td>False</td>\n",
       "    </tr>\n",
       "    <tr>\n",
       "      <th>1</th>\n",
       "      <td>29</td>\n",
       "      <td>44</td>\n",
       "      <td>2</td>\n",
       "      <td>False</td>\n",
       "      <td>False</td>\n",
       "      <td>True</td>\n",
       "      <td>False</td>\n",
       "      <td>False</td>\n",
       "      <td>False</td>\n",
       "      <td>False</td>\n",
       "      <td>False</td>\n",
       "      <td>False</td>\n",
       "      <td>False</td>\n",
       "      <td>False</td>\n",
       "      <td>True</td>\n",
       "      <td>False</td>\n",
       "      <td>True</td>\n",
       "      <td>False</td>\n",
       "      <td>False</td>\n",
       "    </tr>\n",
       "    <tr>\n",
       "      <th>2</th>\n",
       "      <td>2</td>\n",
       "      <td>33</td>\n",
       "      <td>2</td>\n",
       "      <td>False</td>\n",
       "      <td>False</td>\n",
       "      <td>False</td>\n",
       "      <td>False</td>\n",
       "      <td>False</td>\n",
       "      <td>False</td>\n",
       "      <td>False</td>\n",
       "      <td>True</td>\n",
       "      <td>False</td>\n",
       "      <td>False</td>\n",
       "      <td>True</td>\n",
       "      <td>True</td>\n",
       "      <td>False</td>\n",
       "      <td>False</td>\n",
       "      <td>True</td>\n",
       "      <td>False</td>\n",
       "    </tr>\n",
       "    <tr>\n",
       "      <th>5</th>\n",
       "      <td>231</td>\n",
       "      <td>35</td>\n",
       "      <td>3</td>\n",
       "      <td>True</td>\n",
       "      <td>False</td>\n",
       "      <td>False</td>\n",
       "      <td>False</td>\n",
       "      <td>False</td>\n",
       "      <td>False</td>\n",
       "      <td>False</td>\n",
       "      <td>False</td>\n",
       "      <td>False</td>\n",
       "      <td>False</td>\n",
       "      <td>False</td>\n",
       "      <td>True</td>\n",
       "      <td>False</td>\n",
       "      <td>False</td>\n",
       "      <td>True</td>\n",
       "      <td>False</td>\n",
       "    </tr>\n",
       "    <tr>\n",
       "      <th>6</th>\n",
       "      <td>447</td>\n",
       "      <td>28</td>\n",
       "      <td>3</td>\n",
       "      <td>True</td>\n",
       "      <td>False</td>\n",
       "      <td>False</td>\n",
       "      <td>False</td>\n",
       "      <td>False</td>\n",
       "      <td>False</td>\n",
       "      <td>False</td>\n",
       "      <td>False</td>\n",
       "      <td>False</td>\n",
       "      <td>False</td>\n",
       "      <td>True</td>\n",
       "      <td>True</td>\n",
       "      <td>False</td>\n",
       "      <td>True</td>\n",
       "      <td>False</td>\n",
       "      <td>False</td>\n",
       "    </tr>\n",
       "  </tbody>\n",
       "</table>\n",
       "</div>"
      ],
      "text/plain": [
       "    balance  age  education  management  unemployed  technician  student  \\\n",
       "id                                                                         \n",
       "0      2143   58          3        True       False       False    False   \n",
       "1        29   44          2       False       False        True    False   \n",
       "2         2   33          2       False       False       False    False   \n",
       "5       231   35          3        True       False       False    False   \n",
       "6       447   28          3        True       False       False    False   \n",
       "\n",
       "    services  self-employed  retired  entrepreneur  housemaid  blue-collar  \\\n",
       "id                                                                           \n",
       "0      False          False    False         False      False        False   \n",
       "1      False          False    False         False      False        False   \n",
       "2      False          False    False          True      False        False   \n",
       "5      False          False    False         False      False        False   \n",
       "6      False          False    False         False      False        False   \n",
       "\n",
       "     loan  housing  default  single  married      y  \n",
       "id                                                   \n",
       "0   False     True    False   False     True  False  \n",
       "1   False     True    False    True    False  False  \n",
       "2    True     True    False   False     True  False  \n",
       "5   False     True    False   False     True  False  \n",
       "6    True     True    False    True    False  False  "
      ]
     },
     "execution_count": 19,
     "metadata": {},
     "output_type": "execute_result"
    }
   ],
   "source": [
    "df.head()"
   ]
  },
  {
   "cell_type": "code",
   "execution_count": 20,
   "id": "4d96126b-50b8-4687-a7c3-98056c7ed455",
   "metadata": {},
   "outputs": [
    {
     "name": "stdout",
     "output_type": "stream",
     "text": [
      "Total running time of the script:  1.34s\n"
     ]
    }
   ],
   "source": [
    "print(f\"Total running time of the script: {time() - timer_start: .2f}s\")"
   ]
  }
 ],
 "metadata": {
  "kernelspec": {
   "display_name": "Python 3 (ipykernel)",
   "language": "python",
   "name": "python3"
  },
  "language_info": {
   "codemirror_mode": {
    "name": "ipython",
    "version": 3
   },
   "file_extension": ".py",
   "mimetype": "text/x-python",
   "name": "python",
   "nbconvert_exporter": "python",
   "pygments_lexer": "ipython3",
   "version": "3.10.12"
  }
 },
 "nbformat": 4,
 "nbformat_minor": 5
}
